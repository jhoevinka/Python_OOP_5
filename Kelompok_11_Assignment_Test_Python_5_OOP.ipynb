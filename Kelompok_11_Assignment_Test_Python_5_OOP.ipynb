{
  "nbformat": 4,
  "nbformat_minor": 0,
  "metadata": {
    "colab": {
      "provenance": []
    },
    "kernelspec": {
      "name": "python3",
      "display_name": "Python 3"
    },
    "language_info": {
      "name": "python"
    }
  },
  "cells": [
    {
      "cell_type": "markdown",
      "source": [
        "\n",
        "# Assignment Test Python 5:OOP - Kelompok 11\n",
        "\n",
        "**Kelompok 11**\n",
        "- Nur Ali Arfan (Universitas Sultan Ageng Tirtayasa) - Ketua Kelompok\n",
        "- Dyah Ayu Hastuti (Universitas Negeri Malang)\n",
        "- Gamma Jhoevinka Aulia Sandra (Universitas Muhammadiyah Surakarta)\n",
        "- Sutriana Dina Uli Manurung (Politeknik Negeri Medan)\n",
        "- Amira Husna Fidani (Universitas Negeri Malang)\n",
        "---\n",
        "\n",
        "**Assignment Detail**\n",
        "\n",
        "Pada tugas kali ini, kita akan membersihkan data marketing_data.csv menggunakan prinsip OOP.\n",
        "\n",
        "Prinsip OOP yang akan digunakan:\n",
        "Basic OOP\n",
        "Inheritance\n",
        "Polymorphism\n",
        "\n",
        "Script dapat menggunakan pandas agar lebih mudah mengerjakan.\n"
      ],
      "metadata": {
        "id": "_ch2gZ9k96Dd"
      }
    },
    {
      "cell_type": "markdown",
      "source": [
        "\n",
        "\n",
        "---\n",
        "**Task 1: Basic OOP**\n",
        "\n",
        "Buatlah class MarketingDataETL yang memiliki tiga metode:\n",
        "\n",
        "- extract(): akan membaca data dari sebuah file CSV (Misalkan, marketing_data.csv)\n",
        "\n",
        "- transform(): akan melakukan pembersihan dan transformasi sederhana pada data (seperti mengubah format tanggal atau membersihkan nilai yang kosong)\n",
        "\n",
        "- store(): akan menyimpan data yang telah ditransformasi ke dalam struktur data DataFramet.\n"
      ],
      "metadata": {
        "id": "e3dE2CF3Cn-m"
      }
    },
    {
      "cell_type": "code",
      "source": [
        "from google.colab import drive\n",
        "drive.mount('/content/drive')"
      ],
      "metadata": {
        "colab": {
          "base_uri": "https://localhost:8080/"
        },
        "id": "deGAc5_3iPjv",
        "outputId": "905678cb-d76f-400f-f123-acdf519d6aeb"
      },
      "execution_count": 2,
      "outputs": [
        {
          "output_type": "stream",
          "name": "stdout",
          "text": [
            "Mounted at /content/drive\n"
          ]
        }
      ]
    },
    {
      "cell_type": "code",
      "execution_count": 6,
      "metadata": {
        "colab": {
          "base_uri": "https://localhost:8080/"
        },
        "id": "wShHiBqq9wCD",
        "outputId": "245b19b7-5221-46e4-d2c9-505998a357b0"
      },
      "outputs": [
        {
          "output_type": "stream",
          "name": "stdout",
          "text": [
            "Data berhasil diekstrak dari /content/drive/MyDrive/MSIB_6/Project/day-12_assignment_python_5_oop/marketing_data.csv\n",
            "Transformasi data selesai.\n",
            "--------------------------------------------------------------------\n",
            "  customer_id purchase_date product_category  amount_spent\n",
            "0        C001    2023-01-03      Electronics        250.00\n",
            "1        C002    2023-02-03            Books         45.50\n",
            "2        C003    2023-03-03    Home & Garden        150.75\n",
            "3        C001    2023-04-03            Books         20.00\n",
            "4        C002    2023-05-03      Electronics        525.00\n",
            "5        C004           NaT      Electronics        399.99\n",
            "6        C003           NaT            Books         10.50\n",
            "7        C005    2023-07-03           Beauty         75.00\n",
            "--------------------------------------------------------------------\n",
            "Data berhasil disimpan ke /content/drive/MyDrive/MSIB_6/Project/day-12_assignment_python_5_oop/transform_format_date_marketing_data.csv\n"
          ]
        }
      ],
      "source": [
        "import pandas as pd\n",
        "\n",
        "class MarketingDataETL:\n",
        "\n",
        "    def __init__(self, file_path):\n",
        "        self.file_path = file_path\n",
        "        self.data = None\n",
        "\n",
        "    def extract(self):\n",
        "        try:\n",
        "            # Membaca data dari file CSV\n",
        "            self.data = pd.read_csv(self.file_path, sep=';')\n",
        "            print(\"Data berhasil diekstrak dari\", self.file_path)\n",
        "        except FileNotFoundError:\n",
        "            print(\"File tidak ditemukan.\")\n",
        "        except Exception as e:\n",
        "            print(\"Terjadi kesalahan saat ekstraksi:\", str(e))\n",
        "\n",
        "    def transform(self):\n",
        "        if self.data is not None:\n",
        "            try:\n",
        "                # Transformasi sederhana: mengubah format tanggal\n",
        "                self.data['purchase_date'] = pd.to_datetime(self.data['purchase_date'], errors='coerce')\n",
        "                print(\"Transformasi data selesai.\")\n",
        "            except Exception as e:\n",
        "                print(\"Terjadi kesalahan saat transformasi:\", str(e))\n",
        "        else:\n",
        "            print(\"Data belum diekstrak. Lakukan ekstraksi terlebih dahulu.\")\n",
        "\n",
        "    def store(self, output_file):\n",
        "        if self.data is not None:\n",
        "            try:\n",
        "                # Menyimpan data yang telah ditransformasi ke dalam file CSV\n",
        "                self.data.to_csv(output_file, index=False, sep=';')\n",
        "                print(\"Data berhasil disimpan ke\", output_file)\n",
        "            except Exception as e:\n",
        "                print(\"Terjadi kesalahan saat penyimpanan:\", str(e))\n",
        "        else:\n",
        "            print(\"Data belum diekstrak dan ditransformasi. Lakukan ekstraksi dan transformasi terlebih dahulu.\")\n",
        "\n",
        "    def display_data(self):\n",
        "        if self.data is not None:\n",
        "            print(self.data.to_string(index=True))\n",
        "        else:\n",
        "            print(\"Data belum tersedia. Lakukan ekstraksi terlebih dahulu.\")\n",
        "\n",
        "# Membuat objek MarketingDataETL\n",
        "etl = MarketingDataETL('/content/drive/MyDrive/MSIB_6/Project/day-12_assignment_python_5_oop/marketing_data.csv')\n",
        "\n",
        "# Ekstraksi data dari file CSV\n",
        "etl.extract()\n",
        "\n",
        "# Melakukan transformasi pada data\n",
        "etl.transform()\n",
        "\n",
        "# Menampilkan data yang telah diekstrak dan ditransformasi\n",
        "print('--------------------------------------------------------------------')\n",
        "etl.display_data()\n",
        "print('--------------------------------------------------------------------')\n",
        "\n",
        "output_path = '/content/drive/MyDrive/MSIB_6/Project/day-12_assignment_python_5_oop/transform_format_date_marketing_data.csv'\n",
        "etl.store(output_path)"
      ]
    },
    {
      "cell_type": "markdown",
      "source": [
        "\n",
        "\n",
        "---\n",
        "**Task 2: Inheritance & Polymorphism**\n",
        "\n",
        "- Gunakan inheritance untuk membuat class TargetedMarketingETL yang mewarisi dari MarketingDataETL.\n",
        "\n",
        "- Tambahkan metode segment_customers() yang mengelompokkan pelanggan berdasarkan kriteria tertentu (misalnya, pengeluaran total atau kategori produk yang dibeli).\n",
        "\n",
        "- Demonstrasi polymorphism dengan meng-override metode transform() dalam TargetedMarketingETL untuk menambahkan logika segmentasi pelanggan ke dalam proses transformasi.\n",
        "\n"
      ],
      "metadata": {
        "id": "1TqgM3qkCn7u"
      }
    },
    {
      "cell_type": "code",
      "source": [
        "class TargetedMarketingETL(MarketingDataETL):\n",
        "\n",
        "    def segment_customers(self):\n",
        "        if self.data is not None:\n",
        "            try:\n",
        "                # Mengelompokkan pelanggan berdasarkan kategori produk yang dibeli\n",
        "                categories = self.data['product_category'].unique()\n",
        "                for category in categories:\n",
        "                    self.data[f'{category}_segment'] = self.data['product_category'].apply(lambda x: 'Yes' if x == category else 'No')\n",
        "\n",
        "                print(\"Segmentasi pelanggan selesai.\")\n",
        "            except Exception as e:\n",
        "                print(\"Terjadi kesalahan saat segmentasi:\", str(e))\n",
        "        else:\n",
        "            print(\"Data belum diekstrak. Lakukan ekstraksi terlebih dahulu.\")\n",
        "\n",
        "    def transform(self):\n",
        "        super().transform()  # Memanggil metode transform dari class induk\n",
        "        if self.data is not None:\n",
        "            try:\n",
        "                # Menambahkan logika segmentasi pelanggan ke dalam proses transformasi\n",
        "                self.segment_customers()\n",
        "                print(\"Transformasi data dengan segmentasi pelanggan selesai.\")\n",
        "            except Exception as e:\n",
        "                print(\"Terjadi kesalahan saat transformasi:\", str(e))\n",
        "        else:\n",
        "            print(\"Data belum diekstrak. Lakukan ekstraksi terlebih dahulu.\")\n",
        "\n",
        "# Membuat objek TargetedMarketingETL\n",
        "targeted_etl = TargetedMarketingETL('/content/drive/MyDrive/MSIB_6/Project/day-12_assignment_python_5_oop/marketing_data.csv')\n",
        "\n",
        "# Ekstraksi data dari file CSV\n",
        "targeted_etl.extract()\n",
        "\n",
        "# Melakukan transformasi pada data\n",
        "targeted_etl.transform()\n",
        "\n",
        "# Menampilkan data yang telah diekstrak, ditransformasi, dan dilakukan segmentasi pelanggan\n",
        "print('--------------------------------------------------------------------')\n",
        "targeted_etl.display_data()\n",
        "print('--------------------------------------------------------------------')\n",
        "\n",
        "output_path = '/content/drive/MyDrive/MSIB_6/Project/day-12_assignment_python_5_oop/transform_segmented_marketing_data.csv'\n",
        "targeted_etl.store(output_path)"
      ],
      "metadata": {
        "id": "nKIqsSI5C04G",
        "colab": {
          "base_uri": "https://localhost:8080/"
        },
        "outputId": "d85509e5-0855-4efe-9a2d-d9dc85a71e76"
      },
      "execution_count": 24,
      "outputs": [
        {
          "output_type": "stream",
          "name": "stdout",
          "text": [
            "Data berhasil diekstrak dari /content/drive/MyDrive/MSIB_6/Project/day-12_assignment_python_5_oop/marketing_data.csv\n",
            "Transformasi data selesai.\n",
            "Segmentasi pelanggan selesai.\n",
            "Transformasi data dengan segmentasi pelanggan selesai.\n",
            "--------------------------------------------------------------------\n",
            "  customer_id purchase_date product_category  amount_spent Electronics_segment Books_segment Home & Garden_segment Beauty_segment\n",
            "0        C001    2023-01-03      Electronics        250.00                 Yes            No                    No             No\n",
            "1        C002    2023-02-03            Books         45.50                  No           Yes                    No             No\n",
            "2        C003    2023-03-03    Home & Garden        150.75                  No            No                   Yes             No\n",
            "3        C001    2023-04-03            Books         20.00                  No           Yes                    No             No\n",
            "4        C002    2023-05-03      Electronics        525.00                 Yes            No                    No             No\n",
            "5        C004           NaT      Electronics        399.99                 Yes            No                    No             No\n",
            "6        C003           NaT            Books         10.50                  No           Yes                    No             No\n",
            "7        C005    2023-07-03           Beauty         75.00                  No            No                    No            Yes\n",
            "--------------------------------------------------------------------\n",
            "Data berhasil disimpan ke /content/drive/MyDrive/MSIB_6/Project/day-12_assignment_python_5_oop/transform_segmented_marketing_data.csv\n"
          ]
        }
      ]
    }
  ]
}